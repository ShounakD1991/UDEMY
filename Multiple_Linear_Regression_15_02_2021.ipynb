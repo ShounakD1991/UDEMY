{
  "nbformat": 4,
  "nbformat_minor": 0,
  "metadata": {
    "colab": {
      "name": "Multiple_Linear_Regression_15.02.2021.ipynb",
      "provenance": [],
      "collapsed_sections": [],
      "mount_file_id": "17afbu7Z4WUMObz54R5pHG8zUMRY78wax",
      "authorship_tag": "ABX9TyNnPPoGx6E9JaqQTe/MQ0rs",
      "include_colab_link": true
    },
    "kernelspec": {
      "name": "python3",
      "display_name": "Python 3"
    }
  },
  "cells": [
    {
      "cell_type": "markdown",
      "metadata": {
        "id": "view-in-github",
        "colab_type": "text"
      },
      "source": [
        "<a href=\"https://colab.research.google.com/github/ShounakD1991/UDEMY_MACHINE_LEARNING_A-Z_HANDS_ON_PYTHON_IN_DATA_SCIENCE/blob/main/Multiple_Linear_Regression_15_02_2021.ipynb\" target=\"_parent\"><img src=\"https://colab.research.google.com/assets/colab-badge.svg\" alt=\"Open In Colab\"/></a>"
      ]
    },
    {
      "cell_type": "markdown",
      "metadata": {
        "id": "1M8HquNyrxQn"
      },
      "source": [
        "\r\n",
        "\r\n",
        "---\r\n",
        "## Multiple Linear Regression\r\n",
        "---\r\n",
        "\r\n",
        "\r\n",
        "\r\n"
      ]
    },
    {
      "cell_type": "markdown",
      "metadata": {
        "id": "6whvCujTk1mT"
      },
      "source": [
        "\r\n",
        "\r\n",
        "---\r\n",
        "### Importing the libraries\r\n",
        "---\r\n",
        "\r\n",
        "\r\n",
        "\r\n"
      ]
    },
    {
      "cell_type": "code",
      "metadata": {
        "id": "Ax_VYmPvrl55"
      },
      "source": [
        "import numpy as np\r\n",
        "import pandas as pd\r\n",
        "import matplotlib.pyplot as plt\r\n",
        "import seaborn as sns"
      ],
      "execution_count": 1,
      "outputs": []
    },
    {
      "cell_type": "markdown",
      "metadata": {
        "id": "tpfjXIo3l_Dp"
      },
      "source": [
        "\r\n",
        "\r\n",
        "---\r\n",
        "### Importing the Dataset\r\n",
        "---\r\n",
        "\r\n",
        "\r\n",
        "\r\n"
      ]
    },
    {
      "cell_type": "code",
      "metadata": {
        "colab": {
          "base_uri": "https://localhost:8080/",
          "height": 196
        },
        "id": "vSn5RAUzl8da",
        "outputId": "b563c096-2f36-44e5-e2f5-85ee34a7e7da"
      },
      "source": [
        "df=pd.read_csv(\"/content/drive/MyDrive/PGDSE_STUDY_MATERIAL/Udemy Courses/Machine Learning A-Z Hands-On Python & R In Data Science/Part 2 - Regression/Section 5 - Multiple Linear Regression/Python/50_Startups.csv\")\r\n",
        "df.head()"
      ],
      "execution_count": 2,
      "outputs": [
        {
          "output_type": "execute_result",
          "data": {
            "text/html": [
              "<div>\n",
              "<style scoped>\n",
              "    .dataframe tbody tr th:only-of-type {\n",
              "        vertical-align: middle;\n",
              "    }\n",
              "\n",
              "    .dataframe tbody tr th {\n",
              "        vertical-align: top;\n",
              "    }\n",
              "\n",
              "    .dataframe thead th {\n",
              "        text-align: right;\n",
              "    }\n",
              "</style>\n",
              "<table border=\"1\" class=\"dataframe\">\n",
              "  <thead>\n",
              "    <tr style=\"text-align: right;\">\n",
              "      <th></th>\n",
              "      <th>R&amp;D Spend</th>\n",
              "      <th>Administration</th>\n",
              "      <th>Marketing Spend</th>\n",
              "      <th>State</th>\n",
              "      <th>Profit</th>\n",
              "    </tr>\n",
              "  </thead>\n",
              "  <tbody>\n",
              "    <tr>\n",
              "      <th>0</th>\n",
              "      <td>165349.20</td>\n",
              "      <td>136897.80</td>\n",
              "      <td>471784.10</td>\n",
              "      <td>New York</td>\n",
              "      <td>192261.83</td>\n",
              "    </tr>\n",
              "    <tr>\n",
              "      <th>1</th>\n",
              "      <td>162597.70</td>\n",
              "      <td>151377.59</td>\n",
              "      <td>443898.53</td>\n",
              "      <td>California</td>\n",
              "      <td>191792.06</td>\n",
              "    </tr>\n",
              "    <tr>\n",
              "      <th>2</th>\n",
              "      <td>153441.51</td>\n",
              "      <td>101145.55</td>\n",
              "      <td>407934.54</td>\n",
              "      <td>Florida</td>\n",
              "      <td>191050.39</td>\n",
              "    </tr>\n",
              "    <tr>\n",
              "      <th>3</th>\n",
              "      <td>144372.41</td>\n",
              "      <td>118671.85</td>\n",
              "      <td>383199.62</td>\n",
              "      <td>New York</td>\n",
              "      <td>182901.99</td>\n",
              "    </tr>\n",
              "    <tr>\n",
              "      <th>4</th>\n",
              "      <td>142107.34</td>\n",
              "      <td>91391.77</td>\n",
              "      <td>366168.42</td>\n",
              "      <td>Florida</td>\n",
              "      <td>166187.94</td>\n",
              "    </tr>\n",
              "  </tbody>\n",
              "</table>\n",
              "</div>"
            ],
            "text/plain": [
              "   R&D Spend  Administration  Marketing Spend       State     Profit\n",
              "0  165349.20       136897.80        471784.10    New York  192261.83\n",
              "1  162597.70       151377.59        443898.53  California  191792.06\n",
              "2  153441.51       101145.55        407934.54     Florida  191050.39\n",
              "3  144372.41       118671.85        383199.62    New York  182901.99\n",
              "4  142107.34        91391.77        366168.42     Florida  166187.94"
            ]
          },
          "metadata": {
            "tags": []
          },
          "execution_count": 2
        }
      ]
    },
    {
      "cell_type": "code",
      "metadata": {
        "id": "YG-1nY-BmXwL"
      },
      "source": [
        "X=df.iloc[:,:-1].values\r\n",
        "y=df.iloc[:,-1].values"
      ],
      "execution_count": 3,
      "outputs": []
    },
    {
      "cell_type": "markdown",
      "metadata": {
        "id": "UuvwwjLxmyYw"
      },
      "source": [
        "\r\n",
        "\r\n",
        "---\r\n",
        "### Encoding Categorical Data\r\n",
        "---\r\n",
        "\r\n",
        "\r\n",
        "\r\n"
      ]
    },
    {
      "cell_type": "markdown",
      "metadata": {
        "id": "t9Up7tMdm6f4"
      },
      "source": [
        "\r\n",
        "\r\n",
        "---\r\n",
        "#### Encode the Independent Variable\r\n",
        "---\r\n",
        "\r\n",
        "\r\n",
        "\r\n"
      ]
    },
    {
      "cell_type": "code",
      "metadata": {
        "id": "2ApuVowSmtjZ"
      },
      "source": [
        "from sklearn.compose import ColumnTransformer\r\n",
        "from sklearn.preprocessing import OneHotEncoder\r\n",
        "ct=ColumnTransformer(transformers=[('encoder',OneHotEncoder(),[3])],remainder='passthrough')\r\n",
        "X=np.array(ct.fit_transform(X))"
      ],
      "execution_count": 4,
      "outputs": []
    },
    {
      "cell_type": "code",
      "metadata": {
        "colab": {
          "base_uri": "https://localhost:8080/"
        },
        "id": "whsej-CVnAVX",
        "outputId": "c649c457-2862-4530-b1be-8cbae9edd690"
      },
      "source": [
        "print(X)"
      ],
      "execution_count": 5,
      "outputs": [
        {
          "output_type": "stream",
          "text": [
            "[[0.0 0.0 1.0 165349.2 136897.8 471784.1]\n",
            " [1.0 0.0 0.0 162597.7 151377.59 443898.53]\n",
            " [0.0 1.0 0.0 153441.51 101145.55 407934.54]\n",
            " [0.0 0.0 1.0 144372.41 118671.85 383199.62]\n",
            " [0.0 1.0 0.0 142107.34 91391.77 366168.42]\n",
            " [0.0 0.0 1.0 131876.9 99814.71 362861.36]\n",
            " [1.0 0.0 0.0 134615.46 147198.87 127716.82]\n",
            " [0.0 1.0 0.0 130298.13 145530.06 323876.68]\n",
            " [0.0 0.0 1.0 120542.52 148718.95 311613.29]\n",
            " [1.0 0.0 0.0 123334.88 108679.17 304981.62]\n",
            " [0.0 1.0 0.0 101913.08 110594.11 229160.95]\n",
            " [1.0 0.0 0.0 100671.96 91790.61 249744.55]\n",
            " [0.0 1.0 0.0 93863.75 127320.38 249839.44]\n",
            " [1.0 0.0 0.0 91992.39 135495.07 252664.93]\n",
            " [0.0 1.0 0.0 119943.24 156547.42 256512.92]\n",
            " [0.0 0.0 1.0 114523.61 122616.84 261776.23]\n",
            " [1.0 0.0 0.0 78013.11 121597.55 264346.06]\n",
            " [0.0 0.0 1.0 94657.16 145077.58 282574.31]\n",
            " [0.0 1.0 0.0 91749.16 114175.79 294919.57]\n",
            " [0.0 0.0 1.0 86419.7 153514.11 0.0]\n",
            " [1.0 0.0 0.0 76253.86 113867.3 298664.47]\n",
            " [0.0 0.0 1.0 78389.47 153773.43 299737.29]\n",
            " [0.0 1.0 0.0 73994.56 122782.75 303319.26]\n",
            " [0.0 1.0 0.0 67532.53 105751.03 304768.73]\n",
            " [0.0 0.0 1.0 77044.01 99281.34 140574.81]\n",
            " [1.0 0.0 0.0 64664.71 139553.16 137962.62]\n",
            " [0.0 1.0 0.0 75328.87 144135.98 134050.07]\n",
            " [0.0 0.0 1.0 72107.6 127864.55 353183.81]\n",
            " [0.0 1.0 0.0 66051.52 182645.56 118148.2]\n",
            " [0.0 0.0 1.0 65605.48 153032.06 107138.38]\n",
            " [0.0 1.0 0.0 61994.48 115641.28 91131.24]\n",
            " [0.0 0.0 1.0 61136.38 152701.92 88218.23]\n",
            " [1.0 0.0 0.0 63408.86 129219.61 46085.25]\n",
            " [0.0 1.0 0.0 55493.95 103057.49 214634.81]\n",
            " [1.0 0.0 0.0 46426.07 157693.92 210797.67]\n",
            " [0.0 0.0 1.0 46014.02 85047.44 205517.64]\n",
            " [0.0 1.0 0.0 28663.76 127056.21 201126.82]\n",
            " [1.0 0.0 0.0 44069.95 51283.14 197029.42]\n",
            " [0.0 0.0 1.0 20229.59 65947.93 185265.1]\n",
            " [1.0 0.0 0.0 38558.51 82982.09 174999.3]\n",
            " [1.0 0.0 0.0 28754.33 118546.05 172795.67]\n",
            " [0.0 1.0 0.0 27892.92 84710.77 164470.71]\n",
            " [1.0 0.0 0.0 23640.93 96189.63 148001.11]\n",
            " [0.0 0.0 1.0 15505.73 127382.3 35534.17]\n",
            " [1.0 0.0 0.0 22177.74 154806.14 28334.72]\n",
            " [0.0 0.0 1.0 1000.23 124153.04 1903.93]\n",
            " [0.0 1.0 0.0 1315.46 115816.21 297114.46]\n",
            " [1.0 0.0 0.0 0.0 135426.92 0.0]\n",
            " [0.0 0.0 1.0 542.05 51743.15 0.0]\n",
            " [1.0 0.0 0.0 0.0 116983.8 45173.06]]\n"
          ],
          "name": "stdout"
        }
      ]
    },
    {
      "cell_type": "markdown",
      "metadata": {
        "id": "pzp-_4e0oyqn"
      },
      "source": [
        "\r\n",
        "\r\n",
        "---\r\n",
        "### Splitting the dataset into Training and Test Set\r\n",
        "---\r\n",
        "\r\n",
        "\r\n",
        "\r\n"
      ]
    },
    {
      "cell_type": "code",
      "metadata": {
        "id": "pSBR_QTFoZcx"
      },
      "source": [
        "from sklearn.model_selection import train_test_split\r\n",
        "X_train, X_test, y_train, y_test = train_test_split(X, y, test_size=0.33, random_state=0)"
      ],
      "execution_count": 6,
      "outputs": []
    },
    {
      "cell_type": "markdown",
      "metadata": {
        "id": "tSIXSPsIpNcZ"
      },
      "source": [
        "\r\n",
        "\r\n",
        "---\r\n",
        "### Training the Multiple Linear Regression model on the Training set\r\n",
        "---\r\n",
        "\r\n",
        "\r\n",
        "\r\n"
      ]
    },
    {
      "cell_type": "code",
      "metadata": {
        "colab": {
          "base_uri": "https://localhost:8080/"
        },
        "id": "hl-NZ2vOo6LJ",
        "outputId": "78bb1b5b-e445-40bf-e072-f539c4d9f7c5"
      },
      "source": [
        "from sklearn.linear_model import LinearRegression\r\n",
        "regressor= LinearRegression()\r\n",
        "regressor.fit(X_train,y_train)"
      ],
      "execution_count": 7,
      "outputs": [
        {
          "output_type": "execute_result",
          "data": {
            "text/plain": [
              "LinearRegression(copy_X=True, fit_intercept=True, n_jobs=None, normalize=False)"
            ]
          },
          "metadata": {
            "tags": []
          },
          "execution_count": 7
        }
      ]
    },
    {
      "cell_type": "markdown",
      "metadata": {
        "id": "prF9qfaOqvzx"
      },
      "source": [
        "\r\n",
        "\r\n",
        "---\r\n",
        "### Predicting the Test set results\r\n",
        "---\r\n",
        "\r\n",
        "\r\n",
        "\r\n"
      ]
    },
    {
      "cell_type": "code",
      "metadata": {
        "colab": {
          "base_uri": "https://localhost:8080/"
        },
        "id": "ROfQJeQgqWEZ",
        "outputId": "a3bae970-19f8-4a2c-d313-d313cf5c72e3"
      },
      "source": [
        "y_pred = regressor.predict(X_test)\r\n",
        "np.set_printoptions(precision=2)\r\n",
        "print(np.concatenate((y_pred.reshape(len(y_pred),1), y_test.reshape(len(y_test),1)),1))"
      ],
      "execution_count": 8,
      "outputs": [
        {
          "output_type": "stream",
          "text": [
            "[[111616.64 103282.38]\n",
            " [132709.39 144259.4 ]\n",
            " [140155.11 146121.95]\n",
            " [ 76099.2   77798.83]\n",
            " [186329.94 191050.39]\n",
            " [112822.2  105008.31]\n",
            " [ 63002.    81229.06]\n",
            " [ 99107.1   97483.56]\n",
            " [119287.75 110352.25]\n",
            " [175522.84 166187.94]\n",
            " [101000.7   96778.92]\n",
            " [ 85772.99  96479.51]\n",
            " [117713.76 105733.54]\n",
            " [ 90230.88  96712.8 ]\n",
            " [133375.04 124266.9 ]\n",
            " [167530.55 155752.6 ]\n",
            " [158013.55 132602.65]]\n"
          ],
          "name": "stdout"
        }
      ]
    },
    {
      "cell_type": "markdown",
      "metadata": {
        "id": "0xPLDpaBxZ0f"
      },
      "source": [
        "\r\n",
        "\r\n",
        "---\r\n",
        "### Forward Selection Technique\r\n",
        "---\r\n",
        "\r\n",
        "\r\n",
        "\r\n"
      ]
    },
    {
      "cell_type": "code",
      "metadata": {
        "colab": {
          "base_uri": "https://localhost:8080/"
        },
        "id": "T16rFETuwLeS",
        "outputId": "ef9a0502-5d6d-456e-d730-96af2c6fe1a5"
      },
      "source": [
        "from mlxtend.feature_selection import SequentialFeatureSelector as sfs\r\n",
        "linreg_forward = sfs(estimator = regressor, k_features = 'best', forward = True, verbose = 2, scoring = 'r2')\r\n",
        "\r\n",
        "# fit the forward selection on training data using fit()\r\n",
        "sfs_forward = linreg_forward.fit(X_train, y_train)"
      ],
      "execution_count": 9,
      "outputs": [
        {
          "output_type": "stream",
          "text": [
            "/usr/local/lib/python3.6/dist-packages/sklearn/externals/joblib/__init__.py:15: FutureWarning: sklearn.externals.joblib is deprecated in 0.21 and will be removed in 0.23. Please import this functionality directly from joblib, which can be installed with: pip install joblib. If this warning is raised when loading pickled models, you may need to re-serialize those models with scikit-learn 0.21+.\n",
            "  warnings.warn(msg, category=FutureWarning)\n",
            "[Parallel(n_jobs=1)]: Using backend SequentialBackend with 1 concurrent workers.\n",
            "[Parallel(n_jobs=1)]: Done   1 out of   1 | elapsed:    0.0s remaining:    0.0s\n",
            "[Parallel(n_jobs=1)]: Done   6 out of   6 | elapsed:    0.0s finished\n",
            "\n",
            "[2021-02-15 04:28:42] Features: 1/6 -- score: 0.9120226120449269[Parallel(n_jobs=1)]: Using backend SequentialBackend with 1 concurrent workers.\n",
            "[Parallel(n_jobs=1)]: Done   1 out of   1 | elapsed:    0.0s remaining:    0.0s\n",
            "[Parallel(n_jobs=1)]: Done   5 out of   5 | elapsed:    0.0s finished\n",
            "\n",
            "[2021-02-15 04:28:42] Features: 2/6 -- score: 0.9215304827985694[Parallel(n_jobs=1)]: Using backend SequentialBackend with 1 concurrent workers.\n",
            "[Parallel(n_jobs=1)]: Done   1 out of   1 | elapsed:    0.0s remaining:    0.0s\n",
            "[Parallel(n_jobs=1)]: Done   4 out of   4 | elapsed:    0.0s finished\n",
            "\n",
            "[2021-02-15 04:28:42] Features: 3/6 -- score: 0.9225492372419145[Parallel(n_jobs=1)]: Using backend SequentialBackend with 1 concurrent workers.\n",
            "[Parallel(n_jobs=1)]: Done   1 out of   1 | elapsed:    0.0s remaining:    0.0s\n",
            "[Parallel(n_jobs=1)]: Done   3 out of   3 | elapsed:    0.0s finished\n",
            "\n",
            "[2021-02-15 04:28:42] Features: 4/6 -- score: 0.9214800268353308[Parallel(n_jobs=1)]: Using backend SequentialBackend with 1 concurrent workers.\n",
            "[Parallel(n_jobs=1)]: Done   1 out of   1 | elapsed:    0.0s remaining:    0.0s\n",
            "[Parallel(n_jobs=1)]: Done   2 out of   2 | elapsed:    0.0s finished\n",
            "\n",
            "[2021-02-15 04:28:42] Features: 5/6 -- score: 0.9174530706629642[Parallel(n_jobs=1)]: Using backend SequentialBackend with 1 concurrent workers.\n",
            "[Parallel(n_jobs=1)]: Done   1 out of   1 | elapsed:    0.0s remaining:    0.0s\n",
            "[Parallel(n_jobs=1)]: Done   1 out of   1 | elapsed:    0.0s finished\n",
            "\n",
            "[2021-02-15 04:28:42] Features: 6/6 -- score: 0.9174530706624708"
          ],
          "name": "stderr"
        }
      ]
    },
    {
      "cell_type": "code",
      "metadata": {
        "colab": {
          "base_uri": "https://localhost:8080/"
        },
        "id": "kx-pv8IJxsQa",
        "outputId": "09865daf-8df7-4339-a0d6-c115d0324fc3"
      },
      "source": [
        "print('Features selelected using forward selection are: \\n',sfs_forward.k_feature_names_)\r\n",
        "\r\n",
        "# print the R-squared value\r\n",
        "print('\\nR-squared: ', sfs_forward.k_score_)"
      ],
      "execution_count": 10,
      "outputs": [
        {
          "output_type": "stream",
          "text": [
            "Features selelected using forward selection are: \n",
            " ('3', '4', '5')\n",
            "\n",
            "R-squared:  0.9225492372419145\n"
          ],
          "name": "stdout"
        }
      ]
    },
    {
      "cell_type": "markdown",
      "metadata": {
        "id": "DzloYa-1yHe_"
      },
      "source": [
        "\r\n",
        "\r\n",
        "---\r\n",
        "### Backward Elimination Technique\r\n",
        "---\r\n",
        "\r\n",
        "\r\n",
        "\r\n"
      ]
    },
    {
      "cell_type": "code",
      "metadata": {
        "colab": {
          "base_uri": "https://localhost:8080/"
        },
        "id": "o1SagK7Jx7rL",
        "outputId": "f7781ac3-cfe9-4a2d-8230-1b5d6376bcb1"
      },
      "source": [
        "linreg_backward = sfs(estimator = regressor, k_features = 'best', forward = False, verbose = 2, scoring = 'r2')\r\n",
        "\r\n",
        "# fit the forward selection on training data using fit()\r\n",
        "sfs_backward = linreg_backward.fit(np.array(X_train), np.array(y_train))"
      ],
      "execution_count": 11,
      "outputs": [
        {
          "output_type": "stream",
          "text": [
            "[Parallel(n_jobs=1)]: Using backend SequentialBackend with 1 concurrent workers.\n",
            "[Parallel(n_jobs=1)]: Done   1 out of   1 | elapsed:    0.0s remaining:    0.0s\n",
            "[Parallel(n_jobs=1)]: Done   6 out of   6 | elapsed:    0.0s finished\n",
            "\n",
            "[2021-02-15 04:28:42] Features: 5/1 -- score: 0.9181154669678586[Parallel(n_jobs=1)]: Using backend SequentialBackend with 1 concurrent workers.\n",
            "[Parallel(n_jobs=1)]: Done   1 out of   1 | elapsed:    0.0s remaining:    0.0s\n",
            "[Parallel(n_jobs=1)]: Done   5 out of   5 | elapsed:    0.0s finished\n",
            "\n",
            "[2021-02-15 04:28:42] Features: 4/1 -- score: 0.9181154669684115[Parallel(n_jobs=1)]: Using backend SequentialBackend with 1 concurrent workers.\n",
            "[Parallel(n_jobs=1)]: Done   1 out of   1 | elapsed:    0.0s remaining:    0.0s\n",
            "[Parallel(n_jobs=1)]: Done   4 out of   4 | elapsed:    0.0s finished\n",
            "\n",
            "[2021-02-15 04:28:42] Features: 3/1 -- score: 0.9202996625844495[Parallel(n_jobs=1)]: Using backend SequentialBackend with 1 concurrent workers.\n",
            "[Parallel(n_jobs=1)]: Done   1 out of   1 | elapsed:    0.0s remaining:    0.0s\n",
            "[Parallel(n_jobs=1)]: Done   3 out of   3 | elapsed:    0.0s finished\n",
            "\n",
            "[2021-02-15 04:28:42] Features: 2/1 -- score: 0.9215304827985694[Parallel(n_jobs=1)]: Using backend SequentialBackend with 1 concurrent workers.\n",
            "[Parallel(n_jobs=1)]: Done   1 out of   1 | elapsed:    0.0s remaining:    0.0s\n",
            "[Parallel(n_jobs=1)]: Done   2 out of   2 | elapsed:    0.0s finished\n",
            "\n",
            "[2021-02-15 04:28:42] Features: 1/1 -- score: 0.9120226120449269"
          ],
          "name": "stderr"
        }
      ]
    },
    {
      "cell_type": "code",
      "metadata": {
        "colab": {
          "base_uri": "https://localhost:8080/"
        },
        "id": "yuEP26gVyaJV",
        "outputId": "7e68725f-9582-4e16-f776-3729f0fdde44"
      },
      "source": [
        "print('Features selelected using Backward Elimination are: \\n',sfs_backward.k_feature_names_)\r\n",
        "\r\n",
        "# print the R-squared value\r\n",
        "print('\\nR-squared: ', sfs_backward.k_score_)"
      ],
      "execution_count": 12,
      "outputs": [
        {
          "output_type": "stream",
          "text": [
            "Features selelected using Backward Elimination are: \n",
            " ('3', '5')\n",
            "\n",
            "R-squared:  0.9215304827985694\n"
          ],
          "name": "stdout"
        }
      ]
    },
    {
      "cell_type": "markdown",
      "metadata": {
        "id": "hFx0J2SBzbvw"
      },
      "source": [
        "\r\n",
        "\r\n",
        "---\r\n",
        "### Multiple Linear Regression Model Using OLS\r\n",
        "---\r\n",
        "\r\n",
        "\r\n",
        "\r\n"
      ]
    },
    {
      "cell_type": "markdown",
      "metadata": {
        "id": "5KIod7Mk8IwM"
      },
      "source": [
        "\r\n",
        "\r\n",
        "---\r\n",
        "#### Making a copy of original dataset\r\n",
        "---\r\n",
        "\r\n",
        "\r\n",
        "\r\n"
      ]
    },
    {
      "cell_type": "code",
      "metadata": {
        "id": "2iBc4uXp4lTG"
      },
      "source": [
        "df1=df.copy()"
      ],
      "execution_count": 13,
      "outputs": []
    },
    {
      "cell_type": "markdown",
      "metadata": {
        "id": "S1A9v42B8RLx"
      },
      "source": [
        "\r\n",
        "\r\n",
        "---\r\n",
        "### Encode the categorical data\r\n",
        "---\r\n",
        "\r\n",
        "\r\n",
        "\r\n"
      ]
    },
    {
      "cell_type": "markdown",
      "metadata": {
        "id": "KEeRzHYH9GHm"
      },
      "source": [
        "\r\n",
        "\r\n",
        "---\r\n",
        "#### Encode the Independent Variable\r\n",
        "---\r\n",
        "\r\n",
        "\r\n",
        "\r\n"
      ]
    },
    {
      "cell_type": "code",
      "metadata": {
        "colab": {
          "base_uri": "https://localhost:8080/",
          "height": 196
        },
        "id": "-EkCJmRK07Kb",
        "outputId": "b79e9997-fe0f-4329-cec5-836aabc12090"
      },
      "source": [
        "df1=pd.get_dummies(data=df1,columns=['State'],drop_first=True)\r\n",
        "df1.head()"
      ],
      "execution_count": 14,
      "outputs": [
        {
          "output_type": "execute_result",
          "data": {
            "text/html": [
              "<div>\n",
              "<style scoped>\n",
              "    .dataframe tbody tr th:only-of-type {\n",
              "        vertical-align: middle;\n",
              "    }\n",
              "\n",
              "    .dataframe tbody tr th {\n",
              "        vertical-align: top;\n",
              "    }\n",
              "\n",
              "    .dataframe thead th {\n",
              "        text-align: right;\n",
              "    }\n",
              "</style>\n",
              "<table border=\"1\" class=\"dataframe\">\n",
              "  <thead>\n",
              "    <tr style=\"text-align: right;\">\n",
              "      <th></th>\n",
              "      <th>R&amp;D Spend</th>\n",
              "      <th>Administration</th>\n",
              "      <th>Marketing Spend</th>\n",
              "      <th>Profit</th>\n",
              "      <th>State_Florida</th>\n",
              "      <th>State_New York</th>\n",
              "    </tr>\n",
              "  </thead>\n",
              "  <tbody>\n",
              "    <tr>\n",
              "      <th>0</th>\n",
              "      <td>165349.20</td>\n",
              "      <td>136897.80</td>\n",
              "      <td>471784.10</td>\n",
              "      <td>192261.83</td>\n",
              "      <td>0</td>\n",
              "      <td>1</td>\n",
              "    </tr>\n",
              "    <tr>\n",
              "      <th>1</th>\n",
              "      <td>162597.70</td>\n",
              "      <td>151377.59</td>\n",
              "      <td>443898.53</td>\n",
              "      <td>191792.06</td>\n",
              "      <td>0</td>\n",
              "      <td>0</td>\n",
              "    </tr>\n",
              "    <tr>\n",
              "      <th>2</th>\n",
              "      <td>153441.51</td>\n",
              "      <td>101145.55</td>\n",
              "      <td>407934.54</td>\n",
              "      <td>191050.39</td>\n",
              "      <td>1</td>\n",
              "      <td>0</td>\n",
              "    </tr>\n",
              "    <tr>\n",
              "      <th>3</th>\n",
              "      <td>144372.41</td>\n",
              "      <td>118671.85</td>\n",
              "      <td>383199.62</td>\n",
              "      <td>182901.99</td>\n",
              "      <td>0</td>\n",
              "      <td>1</td>\n",
              "    </tr>\n",
              "    <tr>\n",
              "      <th>4</th>\n",
              "      <td>142107.34</td>\n",
              "      <td>91391.77</td>\n",
              "      <td>366168.42</td>\n",
              "      <td>166187.94</td>\n",
              "      <td>1</td>\n",
              "      <td>0</td>\n",
              "    </tr>\n",
              "  </tbody>\n",
              "</table>\n",
              "</div>"
            ],
            "text/plain": [
              "   R&D Spend  Administration  ...  State_Florida  State_New York\n",
              "0  165349.20       136897.80  ...              0               1\n",
              "1  162597.70       151377.59  ...              0               0\n",
              "2  153441.51       101145.55  ...              1               0\n",
              "3  144372.41       118671.85  ...              0               1\n",
              "4  142107.34        91391.77  ...              1               0\n",
              "\n",
              "[5 rows x 6 columns]"
            ]
          },
          "metadata": {
            "tags": []
          },
          "execution_count": 14
        }
      ]
    },
    {
      "cell_type": "markdown",
      "metadata": {
        "id": "cp2AuuE_9Lhv"
      },
      "source": [
        "\r\n",
        "\r\n",
        "---\r\n",
        "### Model Formation Using OLS method\r\n",
        "---\r\n",
        "\r\n",
        "\r\n",
        "\r\n"
      ]
    },
    {
      "cell_type": "code",
      "metadata": {
        "colab": {
          "base_uri": "https://localhost:8080/"
        },
        "id": "GvuIEzj46w6e",
        "outputId": "ee73cd26-eb6a-4007-a52d-79df0ef1fd8f"
      },
      "source": [
        "import statsmodels.api as sm\r\n",
        "x=df1.drop(\"Profit\",axis=1)\r\n",
        "y=df1['Profit']\r\n",
        "Xc=sm.add_constant(x)\r\n",
        "model=sm.OLS(y,Xc).fit()\r\n",
        "y_hat=model.predict(Xc)\r\n",
        "print(model.summary())\r\n",
        "SSE=np.sum((y-y_hat)**2)\r\n",
        "SST=np.sum((y-np.mean(y))**2)\r\n",
        "SSR=np.sum((y_hat-np.mean(y))**2)\r\n",
        "MSR=np.sum((y_hat-np.mean(y))**2)/(df.columns.value_counts().sum()-1) # deducting the degrees of freedom\r\n",
        "MSE=np.sum((y-y_hat)**2)/(len(df)-df.columns.value_counts().sum())\r\n",
        "print(f\"\\n\\nSSR={SSR:0.2f},SSE={SSE:0.2f},SST={SST:0.2f}\\n\\nR_Squared={(SSR/SST):0.2f}\\n\\nMSR={MSR:0.2f},MSE={MSE:0.2f}\\n\\nF_Stat={(MSR/MSE):0.2f}\")"
      ],
      "execution_count": 15,
      "outputs": [
        {
          "output_type": "stream",
          "text": [
            "/usr/local/lib/python3.6/dist-packages/statsmodels/tools/_testing.py:19: FutureWarning: pandas.util.testing is deprecated. Use the functions in the public API at pandas.testing instead.\n",
            "  import pandas.util.testing as tm\n"
          ],
          "name": "stderr"
        },
        {
          "output_type": "stream",
          "text": [
            "                            OLS Regression Results                            \n",
            "==============================================================================\n",
            "Dep. Variable:                 Profit   R-squared:                       0.951\n",
            "Model:                            OLS   Adj. R-squared:                  0.945\n",
            "Method:                 Least Squares   F-statistic:                     169.9\n",
            "Date:                Mon, 15 Feb 2021   Prob (F-statistic):           1.34e-27\n",
            "Time:                        04:28:42   Log-Likelihood:                -525.38\n",
            "No. Observations:                  50   AIC:                             1063.\n",
            "Df Residuals:                      44   BIC:                             1074.\n",
            "Df Model:                           5                                         \n",
            "Covariance Type:            nonrobust                                         \n",
            "===================================================================================\n",
            "                      coef    std err          t      P>|t|      [0.025      0.975]\n",
            "-----------------------------------------------------------------------------------\n",
            "const            5.013e+04   6884.820      7.281      0.000    3.62e+04     6.4e+04\n",
            "R&D Spend           0.8060      0.046     17.369      0.000       0.712       0.900\n",
            "Administration     -0.0270      0.052     -0.517      0.608      -0.132       0.078\n",
            "Marketing Spend     0.0270      0.017      1.574      0.123      -0.008       0.062\n",
            "State_Florida     198.7888   3371.007      0.059      0.953   -6595.030    6992.607\n",
            "State_New York    -41.8870   3256.039     -0.013      0.990   -6604.003    6520.229\n",
            "==============================================================================\n",
            "Omnibus:                       14.782   Durbin-Watson:                   1.283\n",
            "Prob(Omnibus):                  0.001   Jarque-Bera (JB):               21.266\n",
            "Skew:                          -0.948   Prob(JB):                     2.41e-05\n",
            "Kurtosis:                       5.572   Cond. No.                     1.45e+06\n",
            "==============================================================================\n",
            "\n",
            "Warnings:\n",
            "[1] Standard Errors assume that the covariance matrix of the errors is correctly specified.\n",
            "[2] The condition number is large, 1.45e+06. This might indicate that there are\n",
            "strong multicollinearity or other numerical problems.\n",
            "\n",
            "\n",
            "SSR=75684480856.99,SSE=3920339644.40,SST=79604820497.15\n",
            "\n",
            "R_Squared=0.95\n",
            "\n",
            "MSR=18921120214.25,MSE=87118658.76\n",
            "\n",
            "F_Stat=217.19\n"
          ],
          "name": "stdout"
        }
      ]
    },
    {
      "cell_type": "markdown",
      "metadata": {
        "id": "IWhrmOxr9XAk"
      },
      "source": [
        "\r\n",
        "\r\n",
        "---\r\n",
        "### Checking the multicollinearity in data\r\n",
        "---\r\n",
        "\r\n",
        "\r\n",
        "\r\n"
      ]
    },
    {
      "cell_type": "code",
      "metadata": {
        "colab": {
          "base_uri": "https://localhost:8080/"
        },
        "id": "C_j8Rl1Q7LlC",
        "outputId": "ce8e0ebe-b890-4d58-d67a-01bfde944429"
      },
      "source": [
        "from statsmodels.stats.outliers_influence import variance_inflation_factor\r\n",
        "print(\"The Multicollinearity for the independent variable\\n\")\r\n",
        "vif_data = pd.DataFrame() \r\n",
        "vif_data[\"feature\"] = x.columns \r\n",
        "vif_data[\"VIF\"] = [variance_inflation_factor(x.values, i) for i in range(len(x.columns))] \r\n",
        "print(vif_data)"
      ],
      "execution_count": 18,
      "outputs": [
        {
          "output_type": "stream",
          "text": [
            "The Multicollinearity for the independent variable\n",
            "\n",
            "           feature       VIF\n",
            "0        R&D Spend  8.451019\n",
            "1   Administration  4.950277\n",
            "2  Marketing Spend  8.092278\n",
            "3    State_Florida  2.004519\n",
            "4   State_New York  1.928836\n"
          ],
          "name": "stdout"
        }
      ]
    },
    {
      "cell_type": "markdown",
      "metadata": {
        "id": "lYSWi-Iy-MNc"
      },
      "source": [
        "\r\n",
        "\r\n",
        "---\r\n",
        "### Checking the normality in residual\r\n",
        "---\r\n",
        "\r\n",
        "\r\n",
        "\r\n"
      ]
    },
    {
      "cell_type": "markdown",
      "metadata": {
        "id": "MdGtnNHD_BDh"
      },
      "source": [
        "\r\n",
        "\r\n",
        "---\r\n",
        "#### Checking the normality in residual using KDE Plot\r\n",
        "---\r\n",
        "\r\n",
        "\r\n",
        "\r\n"
      ]
    },
    {
      "cell_type": "code",
      "metadata": {
        "colab": {
          "base_uri": "https://localhost:8080/",
          "height": 723
        },
        "id": "TBwm0WjP85gn",
        "outputId": "d13ee24f-f2e1-4602-c450-c93852ebed51"
      },
      "source": [
        "residual=model.resid\r\n",
        "residual=pd.Series(data=residual,name=\"Residual\")\r\n",
        "plt.figure(figsize=(10,8),dpi=100)\r\n",
        "sns.kdeplot(residual,shade=True)\r\n",
        "plt.xlabel(\"Residual\")\r\n",
        "plt.ylabel(\"Density\")\r\n",
        "plt.title(\"The distribution of the residual\")\r\n",
        "plt.show()\r\n",
        "print(\"The Residual follow the normal distribution in above KDE plot\")"
      ],
      "execution_count": 19,
      "outputs": [
        {
          "output_type": "display_data",
          "data": {
            "image/png": "[encoded data removed]",
            "text/plain": [
              "<Figure size 1000x800 with 1 Axes>"
            ]
          },
          "metadata": {
            "tags": [],
            "needs_background": "light"
          }
        },
        {
          "output_type": "stream",
          "text": [
            "The Residual do not follow the normal distribution but left skewed in above KDE plot\n"
          ],
          "name": "stdout"
        }
      ]
    },
    {
      "cell_type": "markdown",
      "metadata": {
        "id": "pjbw3uhX_JAk"
      },
      "source": [
        "\r\n",
        "\r\n",
        "---\r\n",
        "#### Checking the normality in residual using QQ Plot\r\n",
        "---\r\n",
        "\r\n",
        "\r\n",
        "\r\n"
      ]
    },
    {
      "cell_type": "code",
      "metadata": {
        "colab": {
          "base_uri": "https://localhost:8080/",
          "height": 312
        },
        "id": "jORXlg80-Flu",
        "outputId": "96e2ec01-7453-47c4-9d6d-5376b61edea7"
      },
      "source": [
        "sm.qqplot(residual, line ='r')\r\n",
        "plt.title(\"The QQ Plot of Residual\")\r\n",
        "plt.show()\r\n",
        "print(\"The Residual follows the normal distribution in the above QQ Plot\")"
      ],
      "execution_count": 20,
      "outputs": [
        {
          "output_type": "display_data",
          "data": {
            "image/png": "[encoded data removed]",
            "text/plain": [
              "<Figure size 432x288 with 1 Axes>"
            ]
          },
          "metadata": {
            "tags": [],
            "needs_background": "light"
          }
        },
        {
          "output_type": "stream",
          "text": [
            "The Residual do not follow the normal distribution in the above QQ Plot\n"
          ],
          "name": "stdout"
        }
      ]
    },
    {
      "cell_type": "markdown",
      "metadata": {
        "id": "iwDaDuzC_QFc"
      },
      "source": [
        "---\r\n",
        "#### Checking the normality in residual using Shapiro Test\r\n",
        "---"
      ]
    },
    {
      "cell_type": "code",
      "metadata": {
        "colab": {
          "base_uri": "https://localhost:8080/"
        },
        "id": "lQ8jzKwz-eqA",
        "outputId": "a9330626-023c-4a69-ac95-aaac38e8d4d4"
      },
      "source": [
        "from scipy.stats import shapiro\r\n",
        "print(f\"The Shapiro test result is P_Value={shapiro(residual)[1]} is <5% and hence the residual are normally distributed\")"
      ],
      "execution_count": 23,
      "outputs": [
        {
          "output_type": "stream",
          "text": [
            "The Shapiro test result is P_Value=0.010546913370490074 is <5% and hence the residual are normally distributed\n"
          ],
          "name": "stdout"
        }
      ]
    }
  ]
}