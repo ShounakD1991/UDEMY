{
  "nbformat": 4,
  "nbformat_minor": 0,
  "metadata": {
    "colab": {
      "name": "Simple_Linear_Regression_15.02.2021.ipynb",
      "provenance": [],
      "collapsed_sections": [],
      "mount_file_id": "18vpabzE0i1AF64FiztQfE6DN81XgAeE7",
      "authorship_tag": "ABX9TyMcL1Ax2mrArp7lu/8Nr/vk",
      "include_colab_link": true
    },
    "kernelspec": {
      "name": "python3",
      "display_name": "Python 3"
    }
  },
  "cells": [
    {
      "cell_type": "markdown",
      "metadata": {
        "id": "view-in-github",
        "colab_type": "text"
      },
      "source": [
        "<a href=\"https://colab.research.google.com/github/ShounakD1991/UDEMY_MACHINE_LEARNING_A-Z_HANDS_ON_PYTHON_IN_DATA_SCIENCE/blob/main/Simple_Linear_Regression_15_02_2021.ipynb\" target=\"_parent\"><img src=\"https://colab.research.google.com/assets/colab-badge.svg\" alt=\"Open In Colab\"/></a>"
      ]
    },
    {
      "cell_type": "markdown",
      "metadata": {
        "id": "AVmYI0tBTZJm"
      },
      "source": [
        "\r\n",
        "\r\n",
        "---\r\n",
        "## Simple Linear Regression\r\n",
        "---\r\n",
        "\r\n",
        "\r\n",
        "\r\n"
      ]
    },
    {
      "cell_type": "markdown",
      "metadata": {
        "id": "ORJevIe2ThXV"
      },
      "source": [
        "\r\n",
        "\r\n",
        "---\r\n",
        "### Importing the libraries\r\n",
        "---\r\n",
        "\r\n",
        "\r\n",
        "\r\n"
      ]
    },
    {
      "cell_type": "code",
      "metadata": {
        "id": "8z_FWFV1O1O3"
      },
      "source": [
        "import numpy as np\r\n",
        "import pandas as pd\r\n",
        "import matplotlib.pyplot as plt\r\n",
        "import seaborn as sns"
      ],
      "execution_count": null,
      "outputs": []
    },
    {
      "cell_type": "markdown",
      "metadata": {
        "id": "mCdwH-QNTqUn"
      },
      "source": [
        "\r\n",
        "\r\n",
        "---\r\n",
        "### Importing the dataset\r\n",
        "---\r\n",
        "\r\n",
        "\r\n",
        "\r\n"
      ]
    },
    {
      "cell_type": "code",
      "metadata": {
        "colab": {
          "base_uri": "https://localhost:8080/"
        },
        "id": "r9VZXS1USsJp",
        "outputId": "8c02b259-0639-48ee-f04b-0f98516c4c84"
      },
      "source": [
        "df=pd.read_csv(\"/content/drive/MyDrive/PGDSE_STUDY_MATERIAL/Udemy Courses/Machine Learning A-Z Hands-On Python & R In Data Science/Part 2 - Regression/Section 4 - Simple Linear Regression/Python/Salary_Data.csv\")\r\n",
        "print(df)\r\n",
        "x=df.iloc[:,:-1]\r\n",
        "y=df.iloc[:,-1]"
      ],
      "execution_count": null,
      "outputs": [
        {
          "output_type": "stream",
          "text": [
            "    YearsExperience    Salary\n",
            "0               1.1   39343.0\n",
            "1               1.3   46205.0\n",
            "2               1.5   37731.0\n",
            "3               2.0   43525.0\n",
            "4               2.2   39891.0\n",
            "5               2.9   56642.0\n",
            "6               3.0   60150.0\n",
            "7               3.2   54445.0\n",
            "8               3.2   64445.0\n",
            "9               3.7   57189.0\n",
            "10              3.9   63218.0\n",
            "11              4.0   55794.0\n",
            "12              4.0   56957.0\n",
            "13              4.1   57081.0\n",
            "14              4.5   61111.0\n",
            "15              4.9   67938.0\n",
            "16              5.1   66029.0\n",
            "17              5.3   83088.0\n",
            "18              5.9   81363.0\n",
            "19              6.0   93940.0\n",
            "20              6.8   91738.0\n",
            "21              7.1   98273.0\n",
            "22              7.9  101302.0\n",
            "23              8.2  113812.0\n",
            "24              8.7  109431.0\n",
            "25              9.0  105582.0\n",
            "26              9.5  116969.0\n",
            "27              9.6  112635.0\n",
            "28             10.3  122391.0\n",
            "29             10.5  121872.0\n"
          ],
          "name": "stdout"
        }
      ]
    },
    {
      "cell_type": "code",
      "metadata": {
        "colab": {
          "base_uri": "https://localhost:8080/"
        },
        "id": "PjN0rxZGTI5O",
        "outputId": "50cbd4d3-88d6-4504-e96a-f8ba0a984112"
      },
      "source": [
        "print(x)"
      ],
      "execution_count": null,
      "outputs": [
        {
          "output_type": "stream",
          "text": [
            "    YearsExperience\n",
            "0               1.1\n",
            "1               1.3\n",
            "2               1.5\n",
            "3               2.0\n",
            "4               2.2\n",
            "5               2.9\n",
            "6               3.0\n",
            "7               3.2\n",
            "8               3.2\n",
            "9               3.7\n",
            "10              3.9\n",
            "11              4.0\n",
            "12              4.0\n",
            "13              4.1\n",
            "14              4.5\n",
            "15              4.9\n",
            "16              5.1\n",
            "17              5.3\n",
            "18              5.9\n",
            "19              6.0\n",
            "20              6.8\n",
            "21              7.1\n",
            "22              7.9\n",
            "23              8.2\n",
            "24              8.7\n",
            "25              9.0\n",
            "26              9.5\n",
            "27              9.6\n",
            "28             10.3\n",
            "29             10.5\n"
          ],
          "name": "stdout"
        }
      ]
    },
    {
      "cell_type": "code",
      "metadata": {
        "colab": {
          "base_uri": "https://localhost:8080/"
        },
        "id": "NFOJxE2YTKe9",
        "outputId": "5c111202-a082-4233-bc16-83a628a2cecb"
      },
      "source": [
        "print(y)"
      ],
      "execution_count": null,
      "outputs": [
        {
          "output_type": "stream",
          "text": [
            "0      39343.0\n",
            "1      46205.0\n",
            "2      37731.0\n",
            "3      43525.0\n",
            "4      39891.0\n",
            "5      56642.0\n",
            "6      60150.0\n",
            "7      54445.0\n",
            "8      64445.0\n",
            "9      57189.0\n",
            "10     63218.0\n",
            "11     55794.0\n",
            "12     56957.0\n",
            "13     57081.0\n",
            "14     61111.0\n",
            "15     67938.0\n",
            "16     66029.0\n",
            "17     83088.0\n",
            "18     81363.0\n",
            "19     93940.0\n",
            "20     91738.0\n",
            "21     98273.0\n",
            "22    101302.0\n",
            "23    113812.0\n",
            "24    109431.0\n",
            "25    105582.0\n",
            "26    116969.0\n",
            "27    112635.0\n",
            "28    122391.0\n",
            "29    121872.0\n",
            "Name: Salary, dtype: float64\n"
          ],
          "name": "stdout"
        }
      ]
    },
    {
      "cell_type": "markdown",
      "metadata": {
        "id": "JXdGo1k_Twxe"
      },
      "source": [
        "\r\n",
        "\r\n",
        "---\r\n",
        "### Splitting the dataset into the Training set and Test set\r\n",
        "---\r\n",
        "\r\n",
        "\r\n",
        "\r\n"
      ]
    },
    {
      "cell_type": "code",
      "metadata": {
        "id": "R8LQuX3eTOy_"
      },
      "source": [
        "from sklearn.model_selection import train_test_split\r\n",
        "X_train, X_test,y_train,y_test=train_test_split(x,y,test_size=0.2, random_state=101)"
      ],
      "execution_count": null,
      "outputs": []
    },
    {
      "cell_type": "code",
      "metadata": {
        "colab": {
          "base_uri": "https://localhost:8080/",
          "height": 763
        },
        "id": "ES_2aS97UETf",
        "outputId": "9fdbeb26-5c25-4066-9ea5-c05bb179208f"
      },
      "source": [
        "X_train"
      ],
      "execution_count": null,
      "outputs": [
        {
          "output_type": "execute_result",
          "data": {
            "text/html": [
              "<div>\n",
              "<style scoped>\n",
              "    .dataframe tbody tr th:only-of-type {\n",
              "        vertical-align: middle;\n",
              "    }\n",
              "\n",
              "    .dataframe tbody tr th {\n",
              "        vertical-align: top;\n",
              "    }\n",
              "\n",
              "    .dataframe thead th {\n",
              "        text-align: right;\n",
              "    }\n",
              "</style>\n",
              "<table border=\"1\" class=\"dataframe\">\n",
              "  <thead>\n",
              "    <tr style=\"text-align: right;\">\n",
              "      <th></th>\n",
              "      <th>YearsExperience</th>\n",
              "    </tr>\n",
              "  </thead>\n",
              "  <tbody>\n",
              "    <tr>\n",
              "      <th>26</th>\n",
              "      <td>9.5</td>\n",
              "    </tr>\n",
              "    <tr>\n",
              "      <th>16</th>\n",
              "      <td>5.1</td>\n",
              "    </tr>\n",
              "    <tr>\n",
              "      <th>25</th>\n",
              "      <td>9.0</td>\n",
              "    </tr>\n",
              "    <tr>\n",
              "      <th>28</th>\n",
              "      <td>10.3</td>\n",
              "    </tr>\n",
              "    <tr>\n",
              "      <th>10</th>\n",
              "      <td>3.9</td>\n",
              "    </tr>\n",
              "    <tr>\n",
              "      <th>3</th>\n",
              "      <td>2.0</td>\n",
              "    </tr>\n",
              "    <tr>\n",
              "      <th>1</th>\n",
              "      <td>1.3</td>\n",
              "    </tr>\n",
              "    <tr>\n",
              "      <th>19</th>\n",
              "      <td>6.0</td>\n",
              "    </tr>\n",
              "    <tr>\n",
              "      <th>22</th>\n",
              "      <td>7.9</td>\n",
              "    </tr>\n",
              "    <tr>\n",
              "      <th>12</th>\n",
              "      <td>4.0</td>\n",
              "    </tr>\n",
              "    <tr>\n",
              "      <th>5</th>\n",
              "      <td>2.9</td>\n",
              "    </tr>\n",
              "    <tr>\n",
              "      <th>14</th>\n",
              "      <td>4.5</td>\n",
              "    </tr>\n",
              "    <tr>\n",
              "      <th>0</th>\n",
              "      <td>1.1</td>\n",
              "    </tr>\n",
              "    <tr>\n",
              "      <th>21</th>\n",
              "      <td>7.1</td>\n",
              "    </tr>\n",
              "    <tr>\n",
              "      <th>4</th>\n",
              "      <td>2.2</td>\n",
              "    </tr>\n",
              "    <tr>\n",
              "      <th>8</th>\n",
              "      <td>3.2</td>\n",
              "    </tr>\n",
              "    <tr>\n",
              "      <th>13</th>\n",
              "      <td>4.1</td>\n",
              "    </tr>\n",
              "    <tr>\n",
              "      <th>9</th>\n",
              "      <td>3.7</td>\n",
              "    </tr>\n",
              "    <tr>\n",
              "      <th>15</th>\n",
              "      <td>4.9</td>\n",
              "    </tr>\n",
              "    <tr>\n",
              "      <th>29</th>\n",
              "      <td>10.5</td>\n",
              "    </tr>\n",
              "    <tr>\n",
              "      <th>23</th>\n",
              "      <td>8.2</td>\n",
              "    </tr>\n",
              "    <tr>\n",
              "      <th>6</th>\n",
              "      <td>3.0</td>\n",
              "    </tr>\n",
              "    <tr>\n",
              "      <th>17</th>\n",
              "      <td>5.3</td>\n",
              "    </tr>\n",
              "    <tr>\n",
              "      <th>11</th>\n",
              "      <td>4.0</td>\n",
              "    </tr>\n",
              "  </tbody>\n",
              "</table>\n",
              "</div>"
            ],
            "text/plain": [
              "    YearsExperience\n",
              "26              9.5\n",
              "16              5.1\n",
              "25              9.0\n",
              "28             10.3\n",
              "10              3.9\n",
              "3               2.0\n",
              "1               1.3\n",
              "19              6.0\n",
              "22              7.9\n",
              "12              4.0\n",
              "5               2.9\n",
              "14              4.5\n",
              "0               1.1\n",
              "21              7.1\n",
              "4               2.2\n",
              "8               3.2\n",
              "13              4.1\n",
              "9               3.7\n",
              "15              4.9\n",
              "29             10.5\n",
              "23              8.2\n",
              "6               3.0\n",
              "17              5.3\n",
              "11              4.0"
            ]
          },
          "metadata": {
            "tags": []
          },
          "execution_count": 6
        }
      ]
    },
    {
      "cell_type": "code",
      "metadata": {
        "colab": {
          "base_uri": "https://localhost:8080/",
          "height": 226
        },
        "id": "U6ICINSaUGaG",
        "outputId": "3e93cee4-77f0-4c41-be2c-733ac1e1b591"
      },
      "source": [
        "X_test"
      ],
      "execution_count": null,
      "outputs": [
        {
          "output_type": "execute_result",
          "data": {
            "text/html": [
              "<div>\n",
              "<style scoped>\n",
              "    .dataframe tbody tr th:only-of-type {\n",
              "        vertical-align: middle;\n",
              "    }\n",
              "\n",
              "    .dataframe tbody tr th {\n",
              "        vertical-align: top;\n",
              "    }\n",
              "\n",
              "    .dataframe thead th {\n",
              "        text-align: right;\n",
              "    }\n",
              "</style>\n",
              "<table border=\"1\" class=\"dataframe\">\n",
              "  <thead>\n",
              "    <tr style=\"text-align: right;\">\n",
              "      <th></th>\n",
              "      <th>YearsExperience</th>\n",
              "    </tr>\n",
              "  </thead>\n",
              "  <tbody>\n",
              "    <tr>\n",
              "      <th>20</th>\n",
              "      <td>6.8</td>\n",
              "    </tr>\n",
              "    <tr>\n",
              "      <th>24</th>\n",
              "      <td>8.7</td>\n",
              "    </tr>\n",
              "    <tr>\n",
              "      <th>7</th>\n",
              "      <td>3.2</td>\n",
              "    </tr>\n",
              "    <tr>\n",
              "      <th>18</th>\n",
              "      <td>5.9</td>\n",
              "    </tr>\n",
              "    <tr>\n",
              "      <th>2</th>\n",
              "      <td>1.5</td>\n",
              "    </tr>\n",
              "    <tr>\n",
              "      <th>27</th>\n",
              "      <td>9.6</td>\n",
              "    </tr>\n",
              "  </tbody>\n",
              "</table>\n",
              "</div>"
            ],
            "text/plain": [
              "    YearsExperience\n",
              "20              6.8\n",
              "24              8.7\n",
              "7               3.2\n",
              "18              5.9\n",
              "2               1.5\n",
              "27              9.6"
            ]
          },
          "metadata": {
            "tags": []
          },
          "execution_count": 7
        }
      ]
    },
    {
      "cell_type": "code",
      "metadata": {
        "colab": {
          "base_uri": "https://localhost:8080/"
        },
        "id": "CnhpK0RQUIHV",
        "outputId": "bc22b889-3ec9-4404-8bfb-75bbe3ec8af8"
      },
      "source": [
        "y_train"
      ],
      "execution_count": null,
      "outputs": [
        {
          "output_type": "execute_result",
          "data": {
            "text/plain": [
              "26    116969.0\n",
              "16     66029.0\n",
              "25    105582.0\n",
              "28    122391.0\n",
              "10     63218.0\n",
              "3      43525.0\n",
              "1      46205.0\n",
              "19     93940.0\n",
              "22    101302.0\n",
              "12     56957.0\n",
              "5      56642.0\n",
              "14     61111.0\n",
              "0      39343.0\n",
              "21     98273.0\n",
              "4      39891.0\n",
              "8      64445.0\n",
              "13     57081.0\n",
              "9      57189.0\n",
              "15     67938.0\n",
              "29    121872.0\n",
              "23    113812.0\n",
              "6      60150.0\n",
              "17     83088.0\n",
              "11     55794.0\n",
              "Name: Salary, dtype: float64"
            ]
          },
          "metadata": {
            "tags": []
          },
          "execution_count": 8
        }
      ]
    },
    {
      "cell_type": "code",
      "metadata": {
        "colab": {
          "base_uri": "https://localhost:8080/"
        },
        "id": "H3WwxqhpUJr-",
        "outputId": "21f26674-0024-49bb-e9e2-599ce420ee25"
      },
      "source": [
        "y_test"
      ],
      "execution_count": null,
      "outputs": [
        {
          "output_type": "execute_result",
          "data": {
            "text/plain": [
              "20     91738.0\n",
              "24    109431.0\n",
              "7      54445.0\n",
              "18     81363.0\n",
              "2      37731.0\n",
              "27    112635.0\n",
              "Name: Salary, dtype: float64"
            ]
          },
          "metadata": {
            "tags": []
          },
          "execution_count": 9
        }
      ]
    },
    {
      "cell_type": "markdown",
      "metadata": {
        "id": "p2SaorZtUZTn"
      },
      "source": [
        "\r\n",
        "\r\n",
        "---\r\n",
        "### Training the Simple Linear Regression model on the Training Set\r\n",
        "---\r\n",
        "\r\n",
        "\r\n",
        "\r\n"
      ]
    },
    {
      "cell_type": "code",
      "metadata": {
        "colab": {
          "base_uri": "https://localhost:8080/"
        },
        "id": "9SI_D9JFULZe",
        "outputId": "6fd9d447-0f3d-4b80-a1d1-57c116e1b7f5"
      },
      "source": [
        "from sklearn.linear_model import LinearRegression\r\n",
        "regressor=LinearRegression()\r\n",
        "regressor.fit(X_train,y_train)"
      ],
      "execution_count": null,
      "outputs": [
        {
          "output_type": "execute_result",
          "data": {
            "text/plain": [
              "LinearRegression(copy_X=True, fit_intercept=True, n_jobs=None, normalize=False)"
            ]
          },
          "metadata": {
            "tags": []
          },
          "execution_count": 10
        }
      ]
    },
    {
      "cell_type": "markdown",
      "metadata": {
        "id": "COg9vEGaVvkw"
      },
      "source": [
        "\r\n",
        "\r\n",
        "---\r\n",
        "### Predicting the Test Set Result\r\n",
        "---\r\n",
        "\r\n",
        "\r\n",
        "\r\n"
      ]
    },
    {
      "cell_type": "code",
      "metadata": {
        "id": "KOdxfVP-VOF_"
      },
      "source": [
        "y_hat=regressor.predict(X_test)"
      ],
      "execution_count": null,
      "outputs": []
    },
    {
      "cell_type": "code",
      "metadata": {
        "colab": {
          "base_uri": "https://localhost:8080/"
        },
        "id": "kI7AZR5gWW1m",
        "outputId": "fe6028fe-adc8-48b5-9230-30d4eff7fe35"
      },
      "source": [
        "y_hat"
      ],
      "execution_count": null,
      "outputs": [
        {
          "output_type": "execute_result",
          "data": {
            "text/plain": [
              "array([ 90235.22172621, 108172.10301013,  56249.55192509,  81738.80427593,\n",
              "        40200.76340789, 116668.52046041])"
            ]
          },
          "metadata": {
            "tags": []
          },
          "execution_count": 12
        }
      ]
    },
    {
      "cell_type": "markdown",
      "metadata": {
        "id": "xvNt8TIDWlOx"
      },
      "source": [
        "\r\n",
        "\r\n",
        "---\r\n",
        "### Visualising the Original Dataset\r\n",
        "---\r\n",
        "\r\n",
        "\r\n",
        "\r\n"
      ]
    },
    {
      "cell_type": "code",
      "metadata": {
        "colab": {
          "base_uri": "https://localhost:8080/",
          "height": 706
        },
        "id": "ROoFik7QWiGW",
        "outputId": "e8c38b9d-e37e-4612-9043-5b637814c985"
      },
      "source": [
        "plt.figure(figsize=(10,8),dpi=100)\r\n",
        "sns.scatterplot(x='YearsExperience',y='Salary',data=df)\r\n",
        "plt.xlabel(\"Experience (Years)\")\r\n",
        "plt.ylabel(\"Salary ($)\")\r\n",
        "plt.title(\"Salary of employees with different experience\")\r\n",
        "plt.show()"
      ],
      "execution_count": null,
      "outputs": [
        {
          "output_type": "display_data",
          "data": {
            "image/png": "[encoded data removed]",
            "text/plain": [
              "<Figure size 1000x800 with 1 Axes>"
            ]
          },
          "metadata": {
            "tags": [],
            "needs_background": "light"
          }
        }
      ]
    },
    {
      "cell_type": "markdown",
      "metadata": {
        "id": "smejbZFwZJka"
      },
      "source": [
        "\r\n",
        "\r\n",
        "---\r\n",
        "### Visualising the Training set results\r\n",
        "---\r\n",
        "\r\n",
        "\r\n",
        "\r\n"
      ]
    },
    {
      "cell_type": "code",
      "metadata": {
        "colab": {
          "base_uri": "https://localhost:8080/",
          "height": 706
        },
        "id": "8PvIqtinYb8f",
        "outputId": "ae15a06d-ec94-48fe-ac22-16ffc0180f51"
      },
      "source": [
        "plt.figure(figsize=(10,8),dpi=100)\r\n",
        "plt.scatter(X_train,y_train,color='red')\r\n",
        "plt.plot(X_train,regressor.predict(X_train),color='blue')\r\n",
        "plt.xlabel(\"Experience (Years)\")\r\n",
        "plt.ylabel(\"Salary ($)\")\r\n",
        "plt.title(\"Salary of employees with different experience for training model\")\r\n",
        "plt.show()"
      ],
      "execution_count": null,
      "outputs": [
        {
          "output_type": "display_data",
          "data": {
            "image/png": "[encoded data removed]",
            "text/plain": [
              "<Figure size 1000x800 with 1 Axes>"
            ]
          },
          "metadata": {
            "tags": [],
            "needs_background": "light"
          }
        }
      ]
    },
    {
      "cell_type": "markdown",
      "metadata": {
        "id": "MD9qWbt8anP3"
      },
      "source": [
        "\r\n",
        "\r\n",
        "---\r\n",
        "### Visualising the Test set results\r\n",
        "---\r\n",
        "\r\n",
        "\r\n",
        "\r\n"
      ]
    },
    {
      "cell_type": "code",
      "metadata": {
        "colab": {
          "base_uri": "https://localhost:8080/",
          "height": 706
        },
        "id": "MKmmNNnHZbiG",
        "outputId": "052d29da-d3c7-4680-be96-8fd687677a0a"
      },
      "source": [
        "plt.figure(figsize=(10,8),dpi=100)\r\n",
        "plt.scatter(X_test,y_test,color='red')\r\n",
        "plt.plot(X_test,regressor.predict(X_test),color='blue')\r\n",
        "plt.xlabel(\"Experience (Years)\")\r\n",
        "plt.ylabel(\"Salary ($)\")\r\n",
        "plt.title(\"Salary of employees with different experience for test model\")\r\n",
        "plt.show()"
      ],
      "execution_count": null,
      "outputs": [
        {
          "output_type": "display_data",
          "data": {
            "image/png": "[encoded data removed]",
            "text/plain": [
              "<Figure size 1000x800 with 1 Axes>"
            ]
          },
          "metadata": {
            "tags": [],
            "needs_background": "light"
          }
        }
      ]
    },
    {
      "cell_type": "markdown",
      "metadata": {
        "id": "pDsvFiT4cAL7"
      },
      "source": [
        "\r\n",
        "\r\n",
        "---\r\n",
        "### Making a single prediction (for example the salary of an employee with 12 years of experience)\r\n",
        "---\r\n",
        "\r\n",
        "\r\n",
        "\r\n"
      ]
    },
    {
      "cell_type": "code",
      "metadata": {
        "colab": {
          "base_uri": "https://localhost:8080/"
        },
        "id": "sjldkktBa9x6",
        "outputId": "c4676ac3-f161-4204-f199-28796d912772"
      },
      "source": [
        "print(f\"The salary for person having 12 yrs of experience is ${regressor.predict([[12]])[0]:0.2f}\")"
      ],
      "execution_count": null,
      "outputs": [
        {
          "output_type": "stream",
          "text": [
            "The salary for person having 12 yrs of experience is $139325.63\n"
          ],
          "name": "stdout"
        }
      ]
    },
    {
      "cell_type": "markdown",
      "metadata": {
        "id": "076YeCyOc0M3"
      },
      "source": [
        "**Important note:** Notice that the value of the feature (12 years) was input in a double pair of square brackets. That's because the \"predict\" method always expects a 2D array as the format of its inputs. And putting 12 into a double pair of square brackets makes the input exactly a 2D array. \r\n",
        "\r\n",
        "Simply put:\r\n",
        "*   $12 \\rightarrow \\textrm{scalar}$\r\n",
        "*   $[12] \\rightarrow \\textrm{1D array}$\r\n",
        "*   $[[12]] \\rightarrow \\textrm{2D array}$"
      ]
    },
    {
      "cell_type": "markdown",
      "metadata": {
        "id": "xHZZ-lO1dM_s"
      },
      "source": [
        "\r\n",
        "\r\n",
        "---\r\n",
        "### Getting the final linear regression equation with the values of the coefficients\r\n",
        "---\r\n",
        "\r\n",
        "\r\n",
        "\r\n"
      ]
    },
    {
      "cell_type": "code",
      "metadata": {
        "colab": {
          "base_uri": "https://localhost:8080/"
        },
        "id": "imZ03ZyCcakR",
        "outputId": "3ec9abad-3f80-4256-a51e-5bf7bd61d0c3"
      },
      "source": [
        "print(f\"The final equation of the regression line is Y={regressor.intercept_:0.2f}X+{regressor.coef_[0]:0.2f}\")"
      ],
      "execution_count": null,
      "outputs": [
        {
          "output_type": "stream",
          "text": [
            "The final equation of the regression line is Y=26040.07X+9440.46\n"
          ],
          "name": "stdout"
        }
      ]
    },
    {
      "cell_type": "markdown",
      "metadata": {
        "id": "e9Qcf-rFewwX"
      },
      "source": [
        "---\r\n",
        "### Building the Model Using OLS Method\r\n",
        "---"
      ]
    },
    {
      "cell_type": "code",
      "metadata": {
        "colab": {
          "base_uri": "https://localhost:8080/"
        },
        "id": "iZjvUNtadt7t",
        "outputId": "5856a37d-5a67-410f-dd65-278054ba532e"
      },
      "source": [
        "import statsmodels.api as sm\r\n",
        "df=pd.read_csv(\"/content/drive/MyDrive/PGDSE_STUDY_MATERIAL/Udemy Courses/Machine Learning A-Z Hands-On Python & R In Data Science/Part 2 - Regression/Section 4 - Simple Linear Regression/Python/Salary_Data.csv\")\r\n",
        "x=df.iloc[:,:-1]\r\n",
        "y=df.iloc[:,-1]\r\n",
        "Xc = sm.add_constant(x)\r\n",
        "model = sm.OLS(y, Xc).fit()\r\n",
        "y_hat=model.predict(Xc)\r\n",
        "print(model.summary())\r\n",
        "SSE=np.sum((y-y_hat)**2)\r\n",
        "SST=np.sum((y-np.mean(y))**2)\r\n",
        "SSR=np.sum((y_hat-np.mean(y))**2)\r\n",
        "MSR=np.sum((y_hat-np.mean(y))**2)/(df.columns.value_counts().sum()-1) # deducting the degrees of freedom\r\n",
        "MSE=np.sum((y-y_hat)**2)/(len(df)-df.columns.value_counts().sum())\r\n",
        "print(f\"\\n\\nSSR={SSR:0.2f},SSE={SSE:0.2f},SST={SST:0.2f}\\n\\nR_Squared={(SSR/SST):0.2f}\\n\\nMSR={MSR:0.2f},MSE={MSE:0.2f}\\n\\nF_Stat={(MSR/MSE):0.2f}\")"
      ],
      "execution_count": null,
      "outputs": [
        {
          "output_type": "stream",
          "text": [
            "/usr/local/lib/python3.6/dist-packages/statsmodels/tools/_testing.py:19: FutureWarning: pandas.util.testing is deprecated. Use the functions in the public API at pandas.testing instead.\n",
            "  import pandas.util.testing as tm\n"
          ],
          "name": "stderr"
        },
        {
          "output_type": "stream",
          "text": [
            "                            OLS Regression Results                            \n",
            "==============================================================================\n",
            "Dep. Variable:                 Salary   R-squared:                       0.957\n",
            "Model:                            OLS   Adj. R-squared:                  0.955\n",
            "Method:                 Least Squares   F-statistic:                     622.5\n",
            "Date:                Sun, 14 Feb 2021   Prob (F-statistic):           1.14e-20\n",
            "Time:                        22:20:43   Log-Likelihood:                -301.44\n",
            "No. Observations:                  30   AIC:                             606.9\n",
            "Df Residuals:                      28   BIC:                             609.7\n",
            "Df Model:                           1                                         \n",
            "Covariance Type:            nonrobust                                         \n",
            "===================================================================================\n",
            "                      coef    std err          t      P>|t|      [0.025      0.975]\n",
            "-----------------------------------------------------------------------------------\n",
            "const            2.579e+04   2273.053     11.347      0.000    2.11e+04    3.04e+04\n",
            "YearsExperience  9449.9623    378.755     24.950      0.000    8674.119    1.02e+04\n",
            "==============================================================================\n",
            "Omnibus:                        2.140   Durbin-Watson:                   1.648\n",
            "Prob(Omnibus):                  0.343   Jarque-Bera (JB):                1.569\n",
            "Skew:                           0.363   Prob(JB):                        0.456\n",
            "Kurtosis:                       2.147   Cond. No.                         13.2\n",
            "==============================================================================\n",
            "\n",
            "Warnings:\n",
            "[1] Standard Errors assume that the covariance matrix of the errors is correctly specified.\n",
            "\n",
            "\n",
            "SSR=20856849300.33,SSE=938128551.67,SST=21794977852.00\n",
            "\n",
            "R_Squared=0.96\n",
            "\n",
            "MSR=20856849300.33,MSE=33504591.13\n",
            "\n",
            "F_Stat=622.51\n"
          ],
          "name": "stdout"
        }
      ]
    }
  ]
}