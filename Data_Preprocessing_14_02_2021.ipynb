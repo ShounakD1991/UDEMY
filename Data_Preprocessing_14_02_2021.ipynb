{
  "nbformat": 4,
  "nbformat_minor": 0,
  "metadata": {
    "kernelspec": {
      "display_name": "Python 3",
      "language": "python",
      "name": "python3"
    },
    "language_info": {
      "codemirror_mode": {
        "name": "ipython",
        "version": 3
      },
      "file_extension": ".py",
      "mimetype": "text/x-python",
      "name": "python",
      "nbconvert_exporter": "python",
      "pygments_lexer": "ipython3",
      "version": "3.8.5"
    },
    "colab": {
      "name": "Data_Preprocessing_14.02.2021.ipynb",
      "provenance": [],
      "collapsed_sections": [],
      "include_colab_link": true
    }
  },
  "cells": [
    {
      "cell_type": "markdown",
      "metadata": {
        "id": "view-in-github",
        "colab_type": "text"
      },
      "source": [
        "<a href=\"https://colab.research.google.com/github/ShounakD1991/UDEMY_MACHINE_LEARNING_A-Z_HANDS_ON_PYTHON_IN_DATA_SCIENCE/blob/main/Data_Preprocessing_14_02_2021.ipynb\" target=\"_parent\"><img src=\"https://colab.research.google.com/assets/colab-badge.svg\" alt=\"Open In Colab\"/></a>"
      ]
    },
    {
      "cell_type": "code",
      "metadata": {
        "colab": {
          "base_uri": "https://localhost:8080/"
        },
        "id": "mzz6zVND0jBX",
        "outputId": "f970bd63-6488-42aa-ed32-2d40c166f7d4"
      },
      "source": [
        "from google.colab import drive\n",
        "drive.mount('/content/drive')"
      ],
      "execution_count": null,
      "outputs": [
        {
          "output_type": "stream",
          "text": [
            "Mounted at /content/drive\n"
          ],
          "name": "stdout"
        }
      ]
    },
    {
      "cell_type": "markdown",
      "metadata": {
        "id": "0kI2cJZH0dyQ"
      },
      "source": [
        "\r\n",
        "\r\n",
        "---\r\n",
        "## Data Preprocessing Tools\r\n",
        "---\r\n",
        "\r\n",
        "\r\n",
        "\r\n"
      ]
    },
    {
      "cell_type": "markdown",
      "metadata": {
        "id": "pwQxmGxB0dyV"
      },
      "source": [
        "\r\n",
        "\r\n",
        "---\r\n",
        "### Importing Libraries\r\n",
        "---\r\n",
        "\r\n",
        "\r\n",
        "\r\n",
        "\r\n",
        "\r\n"
      ]
    },
    {
      "cell_type": "code",
      "metadata": {
        "id": "GsLE-KVP0dyW"
      },
      "source": [
        "import numpy as np\n",
        "import pandas as pd\n",
        "import matplotlib.pyplot as plt\n",
        "import seaborn as sns"
      ],
      "execution_count": null,
      "outputs": []
    },
    {
      "cell_type": "markdown",
      "metadata": {
        "id": "7xihJ0aO0dyW"
      },
      "source": [
        "\r\n",
        "\r\n",
        "---\r\n",
        "### Importing Dataset\r\n",
        "---\r\n",
        "\r\n",
        "\r\n",
        "\r\n"
      ]
    },
    {
      "cell_type": "code",
      "metadata": {
        "colab": {
          "base_uri": "https://localhost:8080/"
        },
        "id": "i10EvFzS0dyW",
        "outputId": "9d351a8f-d8c6-4b79-c53b-cc2523bf38b5"
      },
      "source": [
        "df=pd.read_csv(\"/content/drive/MyDrive/PGDSE_STUDY_MATERIAL/Udemy Courses/Machine Learning A-Z Hands-On Python & R In Data Science/Part 1 - Data Preprocessing/Section 2 -------------------- Part 1 - Data Preprocessing --------------------/Python/Data.csv\")\n",
        "print(df)\n",
        "x=df.iloc[:,:-1].values\n",
        "y=df.iloc[:,-1].values"
      ],
      "execution_count": null,
      "outputs": [
        {
          "output_type": "stream",
          "text": [
            "   Country   Age   Salary Purchased\n",
            "0   France  44.0  72000.0        No\n",
            "1    Spain  27.0  48000.0       Yes\n",
            "2  Germany  30.0  54000.0        No\n",
            "3    Spain  38.0  61000.0        No\n",
            "4  Germany  40.0      NaN       Yes\n",
            "5   France  35.0  58000.0       Yes\n",
            "6    Spain   NaN  52000.0        No\n",
            "7   France  48.0  79000.0       Yes\n",
            "8  Germany  50.0  83000.0        No\n",
            "9   France  37.0  67000.0       Yes\n"
          ],
          "name": "stdout"
        }
      ]
    },
    {
      "cell_type": "code",
      "metadata": {
        "colab": {
          "base_uri": "https://localhost:8080/"
        },
        "id": "k6FrtIq60dyY",
        "outputId": "b837f948-8ae5-4c1e-d006-793e9f4a873d"
      },
      "source": [
        "print(x)"
      ],
      "execution_count": null,
      "outputs": [
        {
          "output_type": "stream",
          "text": [
            "[['France' 44.0 72000.0]\n",
            " ['Spain' 27.0 48000.0]\n",
            " ['Germany' 30.0 54000.0]\n",
            " ['Spain' 38.0 61000.0]\n",
            " ['Germany' 40.0 nan]\n",
            " ['France' 35.0 58000.0]\n",
            " ['Spain' nan 52000.0]\n",
            " ['France' 48.0 79000.0]\n",
            " ['Germany' 50.0 83000.0]\n",
            " ['France' 37.0 67000.0]]\n"
          ],
          "name": "stdout"
        }
      ]
    },
    {
      "cell_type": "code",
      "metadata": {
        "scrolled": true,
        "colab": {
          "base_uri": "https://localhost:8080/"
        },
        "id": "Q-jeHXDx0dyZ",
        "outputId": "5edb0b6d-ff93-4c92-ac2f-ebb863321eb1"
      },
      "source": [
        "print(y)"
      ],
      "execution_count": null,
      "outputs": [
        {
          "output_type": "stream",
          "text": [
            "['No' 'Yes' 'No' 'No' 'Yes' 'Yes' 'No' 'Yes' 'No' 'Yes']\n"
          ],
          "name": "stdout"
        }
      ]
    },
    {
      "cell_type": "markdown",
      "metadata": {
        "id": "QsSbNOZi0dyZ"
      },
      "source": [
        "\r\n",
        "\r\n",
        "---\r\n",
        "### Taking care of Missing Data\r\n",
        "---\r\n",
        "\r\n",
        "\r\n",
        "\r\n"
      ]
    },
    {
      "cell_type": "code",
      "metadata": {
        "id": "HPJRpaOY0dyZ"
      },
      "source": [
        "from sklearn.impute import SimpleImputer\r\n",
        "imputer= SimpleImputer(missing_values=np.nan,strategy='mean')\r\n",
        "x[:,1:3]=imputer.fit_transform(x[:,1:3])"
      ],
      "execution_count": null,
      "outputs": []
    },
    {
      "cell_type": "code",
      "metadata": {
        "colab": {
          "base_uri": "https://localhost:8080/"
        },
        "id": "pMNip3Pe3ut3",
        "outputId": "25ebbd56-4f93-42c4-a834-fcd4663baf7c"
      },
      "source": [
        "x"
      ],
      "execution_count": null,
      "outputs": [
        {
          "output_type": "execute_result",
          "data": {
            "text/plain": [
              "array([['France', 44.0, 72000.0],\n",
              "       ['Spain', 27.0, 48000.0],\n",
              "       ['Germany', 30.0, 54000.0],\n",
              "       ['Spain', 38.0, 61000.0],\n",
              "       ['Germany', 40.0, 63777.77777777778],\n",
              "       ['France', 35.0, 58000.0],\n",
              "       ['Spain', 38.77777777777778, 52000.0],\n",
              "       ['France', 48.0, 79000.0],\n",
              "       ['Germany', 50.0, 83000.0],\n",
              "       ['France', 37.0, 67000.0]], dtype=object)"
            ]
          },
          "metadata": {
            "tags": []
          },
          "execution_count": 7
        }
      ]
    },
    {
      "cell_type": "markdown",
      "metadata": {
        "id": "YVYK_V874U_O"
      },
      "source": [
        "\r\n",
        "\r\n",
        "---\r\n",
        "### Encoding Categorical Data\r\n",
        "---\r\n",
        "\r\n",
        "\r\n",
        "\r\n"
      ]
    },
    {
      "cell_type": "markdown",
      "metadata": {
        "id": "oGBXmJDU9vov"
      },
      "source": [
        "\r\n",
        "\r\n",
        "---\r\n",
        "#### Encoding Independent Variable\r\n",
        "---\r\n",
        "\r\n",
        "\r\n",
        "\r\n"
      ]
    },
    {
      "cell_type": "code",
      "metadata": {
        "id": "PvHNWYyO3ww-"
      },
      "source": [
        "from sklearn.compose import ColumnTransformer\r\n",
        "from sklearn.preprocessing import OneHotEncoder\r\n",
        "ct=ColumnTransformer(transformers=[('encoder',OneHotEncoder(),[0])],remainder='passthrough')\r\n",
        "x=np.array(ct.fit_transform(x))"
      ],
      "execution_count": null,
      "outputs": []
    },
    {
      "cell_type": "code",
      "metadata": {
        "colab": {
          "base_uri": "https://localhost:8080/"
        },
        "id": "crFWPKrz_W-h",
        "outputId": "77f4f18d-8299-48a2-dba2-1bb7be0f7971"
      },
      "source": [
        "print(x)"
      ],
      "execution_count": null,
      "outputs": [
        {
          "output_type": "stream",
          "text": [
            "[[1.0 0.0 0.0 44.0 72000.0]\n",
            " [0.0 0.0 1.0 27.0 48000.0]\n",
            " [0.0 1.0 0.0 30.0 54000.0]\n",
            " [0.0 0.0 1.0 38.0 61000.0]\n",
            " [0.0 1.0 0.0 40.0 63777.77777777778]\n",
            " [1.0 0.0 0.0 35.0 58000.0]\n",
            " [0.0 0.0 1.0 38.77777777777778 52000.0]\n",
            " [1.0 0.0 0.0 48.0 79000.0]\n",
            " [0.0 1.0 0.0 50.0 83000.0]\n",
            " [1.0 0.0 0.0 37.0 67000.0]]\n"
          ],
          "name": "stdout"
        }
      ]
    },
    {
      "cell_type": "markdown",
      "metadata": {
        "id": "X3Qre29u_n94"
      },
      "source": [
        "\r\n",
        "\r\n",
        "---\r\n",
        "#### Encoding dependent Variable\r\n",
        "---\r\n",
        "\r\n",
        "\r\n",
        "\r\n"
      ]
    },
    {
      "cell_type": "code",
      "metadata": {
        "id": "f98aqXHt_Xmw"
      },
      "source": [
        "from sklearn.preprocessing import LabelEncoder\r\n",
        "le=LabelEncoder()\r\n",
        "y=le.fit_transform(y)"
      ],
      "execution_count": null,
      "outputs": []
    },
    {
      "cell_type": "code",
      "metadata": {
        "colab": {
          "base_uri": "https://localhost:8080/"
        },
        "id": "9cANciZA_toK",
        "outputId": "84bea442-0982-4289-a06c-b99f2eae7c7a"
      },
      "source": [
        "print(y)"
      ],
      "execution_count": null,
      "outputs": [
        {
          "output_type": "stream",
          "text": [
            "[0 1 0 0 1 1 0 1 0 1]\n"
          ],
          "name": "stdout"
        }
      ]
    },
    {
      "cell_type": "markdown",
      "metadata": {
        "id": "CrQLxJN0ESHM"
      },
      "source": [
        "\r\n",
        "\r\n",
        "---\r\n",
        "We have to apply feature scaling after splitting the dataset \r\n",
        "into the training set and a test set and now let me explain.\r\n",
        "Splitting the dataset into the training set in a test consists of making two separate sets. One training set where you're going to train your missionary model on existing observations and one test set where you're going to evaluate the performance of your model on new observations.\r\n",
        "\r\n",
        "And it's important to understand that these new observations are exactly like you know some future data that you're going to get and on which you're going to deploy your machine learning model.\r\n",
        "\r\n",
        "So that's this first tool and now feature scaling simply consists of scaling all your variables or your features actually to make sure they all take values in the same scale.\r\n",
        "\r\n",
        "And we do this so as to prevent one feature to dominate the other which therefore would be neglected by the machine learning model.\r\n",
        "\r\n",
        "We have to apply feature scaling after splitting the data set into the training set and instead it's really obvious it is for the simple reason that the test set is supposed to be a brand new set on which you are going to evaluate your machine learning model.\r\n",
        "\r\n",
        "So it's exactly like you know you're training your machinery moral on your training set and then later on you know after it is trained you are going to deploy it on new observations.\r\n",
        "\r\n",
        "So what this means is that the test set is something you're not supposed to work with for the training and features killing is as you will see a technique that will get the mean and standard deviation of your feature.\r\n",
        "\r\n",
        "You know in order to perform the scaling.\r\n",
        "\r\n",
        "So if we apply feature scaling before the split then it will actually get the mean and standard deviation of all the values including the ones in the test set and since the test set is something you're not supposed to have you know like some future data in production.\r\n",
        "\r\n",
        "Well you know applying pictures killing on the original day you said before the split would cause some what we call information leakage on the test set.\r\n",
        "\r\n",
        "You know we would grab some information from the test set which we're not supposed to get because it is supposed to be new data with new observations.\r\n",
        "\r\n",
        "So remember this the essential reason why you should not apply features scaling before the split is to prevent information leakage on the test set which you're not supposed to have until the training\r\n",
        "---\r\n",
        "\r\n",
        "\r\n",
        "\r\n"
      ]
    },
    {
      "cell_type": "markdown",
      "metadata": {
        "id": "Cy8R7YCQC3PC"
      },
      "source": [
        "\r\n",
        "\r\n",
        "---\r\n",
        "### Splitting the dataset into the Training and Test set\r\n",
        "---\r\n",
        "\r\n",
        "\r\n",
        "\r\n"
      ]
    },
    {
      "cell_type": "code",
      "metadata": {
        "id": "gDKQuYmYAYGx"
      },
      "source": [
        "from sklearn.model_selection import train_test_split\r\n",
        "X_train, X_test,y_train,y_test=train_test_split(x,y,test_size=0.2, random_state=101)"
      ],
      "execution_count": null,
      "outputs": []
    },
    {
      "cell_type": "code",
      "metadata": {
        "colab": {
          "base_uri": "https://localhost:8080/"
        },
        "id": "NEih3SSVC17u",
        "outputId": "0ce8f186-1086-4dd8-acb8-933e61ce03a7"
      },
      "source": [
        "X_train"
      ],
      "execution_count": null,
      "outputs": [
        {
          "output_type": "execute_result",
          "data": {
            "text/plain": [
              "array([[1.0, 0.0, 0.0, 44.0, 72000.0],\n",
              "       [0.0, 1.0, 0.0, 40.0, 63777.77777777778],\n",
              "       [1.0, 0.0, 0.0, 37.0, 67000.0],\n",
              "       [0.0, 0.0, 1.0, 38.0, 61000.0],\n",
              "       [1.0, 0.0, 0.0, 35.0, 58000.0],\n",
              "       [1.0, 0.0, 0.0, 48.0, 79000.0],\n",
              "       [0.0, 0.0, 1.0, 38.77777777777778, 52000.0],\n",
              "       [0.0, 0.0, 1.0, 27.0, 48000.0]], dtype=object)"
            ]
          },
          "metadata": {
            "tags": []
          },
          "execution_count": 13
        }
      ]
    },
    {
      "cell_type": "code",
      "metadata": {
        "colab": {
          "base_uri": "https://localhost:8080/"
        },
        "id": "HdSs7rePG547",
        "outputId": "9ca4ff7c-28f3-4247-f58f-bff56b991124"
      },
      "source": [
        "X_test"
      ],
      "execution_count": null,
      "outputs": [
        {
          "output_type": "execute_result",
          "data": {
            "text/plain": [
              "array([[0.0, 1.0, 0.0, 50.0, 83000.0],\n",
              "       [0.0, 1.0, 0.0, 30.0, 54000.0]], dtype=object)"
            ]
          },
          "metadata": {
            "tags": []
          },
          "execution_count": 14
        }
      ]
    },
    {
      "cell_type": "code",
      "metadata": {
        "colab": {
          "base_uri": "https://localhost:8080/"
        },
        "id": "FG_R9JVfG7WC",
        "outputId": "fa61e0e1-6be9-4a1a-849a-2b3ba2594ee8"
      },
      "source": [
        "y_train"
      ],
      "execution_count": null,
      "outputs": [
        {
          "output_type": "execute_result",
          "data": {
            "text/plain": [
              "array([0, 1, 1, 0, 1, 1, 0, 1])"
            ]
          },
          "metadata": {
            "tags": []
          },
          "execution_count": 15
        }
      ]
    },
    {
      "cell_type": "code",
      "metadata": {
        "colab": {
          "base_uri": "https://localhost:8080/"
        },
        "id": "yOpucu0FG8qq",
        "outputId": "8ba53723-e74e-4ba5-8f7e-0b119d3429f6"
      },
      "source": [
        "y_test"
      ],
      "execution_count": null,
      "outputs": [
        {
          "output_type": "execute_result",
          "data": {
            "text/plain": [
              "array([0, 0])"
            ]
          },
          "metadata": {
            "tags": []
          },
          "execution_count": 16
        }
      ]
    },
    {
      "cell_type": "code",
      "metadata": {
        "id": "5FwXcOazG9jK"
      },
      "source": [
        "from sklearn.preprocessing import StandardScaler\r\n",
        "sc=StandardScaler()\r\n",
        "X_train[:,3:]=sc.fit_transform(X_train[:,3:])\r\n",
        "X_test[:,3:]=sc.fit_transform(X_test[:,3:])"
      ],
      "execution_count": null,
      "outputs": []
    },
    {
      "cell_type": "code",
      "metadata": {
        "colab": {
          "base_uri": "https://localhost:8080/"
        },
        "id": "K0lNvjKnJpWs",
        "outputId": "f4b2455c-3d11-4ac5-f6fd-9baf07b1270f"
      },
      "source": [
        "X_train"
      ],
      "execution_count": null,
      "outputs": [
        {
          "output_type": "execute_result",
          "data": {
            "text/plain": [
              "array([[1.0, 0.0, 0.0, 0.951826310201807, 0.9861483502652316],\n",
              "       [0.0, 1.0, 0.0, 0.2630675731713538, 0.1238147854838185],\n",
              "       [1.0, 0.0, 0.0, -0.2535014796014861, 0.4617563176278856],\n",
              "       [0.0, 0.0, 1.0, -0.08131179534387281, -0.16751412153692966],\n",
              "       [1.0, 0.0, 0.0, -0.5978808481167127, -0.48214934111933727],\n",
              "       [1.0, 0.0, 0.0, 1.6405850472322603, 1.7202971959575162],\n",
              "       [0.0, 0.0, 1.0, 0.052613514634271004, -1.1114197802841526],\n",
              "       [0.0, 0.0, 1.0, -1.9753983221776192, -1.5309334063940294]],\n",
              "      dtype=object)"
            ]
          },
          "metadata": {
            "tags": []
          },
          "execution_count": 18
        }
      ]
    },
    {
      "cell_type": "code",
      "metadata": {
        "colab": {
          "base_uri": "https://localhost:8080/"
        },
        "id": "XmVwCEOuJuzb",
        "outputId": "aa77e2f3-b6f8-4282-dfcb-028ba0a20b46"
      },
      "source": [
        "X_test"
      ],
      "execution_count": null,
      "outputs": [
        {
          "output_type": "execute_result",
          "data": {
            "text/plain": [
              "array([[0.0, 1.0, 0.0, 1.0, 1.0],\n",
              "       [0.0, 1.0, 0.0, -1.0, -1.0]], dtype=object)"
            ]
          },
          "metadata": {
            "tags": []
          },
          "execution_count": 19
        }
      ]
    }
  ]
}